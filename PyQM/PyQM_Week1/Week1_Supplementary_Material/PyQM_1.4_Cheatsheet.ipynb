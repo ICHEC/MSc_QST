{
 "cells": [
  {
   "cell_type": "markdown",
   "metadata": {
    "cell_id": "00001-724a1d3c-76b1-4daf-8d01-3d692febf397",
    "deepnote_cell_type": "markdown",
    "tags": []
   },
   "source": [
    "<center>\n",
    "    \n",
    "# Python For Quantum Mechanics  \n",
    "# Week 1: Cheatsheet\n",
    "\n",
    "</center>"
   ]
  },
  {
   "cell_type": "markdown",
   "metadata": {},
   "source": [
    "## [1.1 Installation](PyQM_1.1_Installation.ipynb) "
   ]
  },
  {
   "cell_type": "markdown",
   "metadata": {},
   "source": [
    "## [1.2 Variables](PyQM_1.2_Variables.ipynb) \n",
    "- Integer and Float Variables\n",
    "    - A single `=` sign assigns value to a variable\n",
    "    - Make an integer: `my_int = 4`\n",
    "    - Make an float: `my_float = 4.3`\n",
    "    - Operations: `my_int + my_float` gives `8.3` and similarly `-`, `*`, and `/`.\n",
    "    - Can modify a variable using `my_int += 1` and now `my_int` has value `5` and similarly `-=`, `*=`, and `/=`.\n",
    "    - Other operations: \n",
    "        - `**` exponentates\n",
    "        - `//` integer division\n",
    "        - `%` modulo (or 'remainder')\n",
    "- Scientific Notation\n",
    "    - `e` represents $10$^ for floats in Python\n",
    "- Comparison Operators and Boolean Variables\n",
    "    - The Python comparison operators are `<`, `<=`,  `>`,  `>=`, `!=`, and `==`.\n",
    "    - These operators return a Boolean `True` or `False`.\n",
    "    - Boolean operators are `and`, `or`, and `not`.\n",
    "- Complex Numbers\n",
    "    - The complex unit $\\sqrt{-1}=i$ is represented by `j`.\n",
    "    - e.g. `z = 3 + 4j` is $z = 3 + 4i$, a complex number.\n",
    "    - The `abs()` function gives the modulus, `abs(z)` gives $5$ as $|3+4i|=\\sqrt{3^2+4^2}=5$.\n",
    "    - Imaginary and Real parts can be obtained, `z.real()` and `z.imag()` gives `3` and `4`.\n",
    "- Strings\n",
    "    - Strings are denoted by quatation marks, `''`, `my_string = 'my text'`.\n",
    "    - Strings can be concatenated with `+` and can be multiplied using `*`.\n",
    "    - Can get a `i`th letter (starting at the 0th) using `my_string[i]`.\n",
    "    - Can get sections of a string using `my_string[start : stop : step]`.\n",
    "- Casting\n",
    "    - Can change the type of a value using `int()`, `float()`, `complex()`, `str()`, and `bool()`.\n",
    "- None Type\n",
    "    - A special type contaning only one value denoted by `None`.\n",
    "- Operator Precedence\n",
    "    - Order can be found [here](https://www.mathcs.emory.edu/~valerie/courses/fall10/155/resources/op_precedence.html)."
   ]
  },
  {
   "cell_type": "markdown",
   "metadata": {},
   "source": [
    "## [1.3 Data Structures](PyQM_1.3_Data_Structures.ipynb) \n",
    "- Lists\n",
    "    - \n",
    "- Tuples\n",
    "- Sets\n",
    "- Dictionaries\n",
    "- Operations with Data Structures\n",
    "    - Properties\n",
    "    - Changing, Adding, and Removing Elements\n",
    "    - Slicing and Reorganising\n",
    "    - Combining Structures\n",
    "    - Copying"
   ]
  },
  {
   "cell_type": "markdown",
   "metadata": {},
   "source": [
    "## [1.4 Binary Operations](PyQM_1.4_Binary_Operations.ipynb) \n",
    "- Bitwise Operators\n",
    "- Shift Operators"
   ]
  },
  {
   "cell_type": "markdown",
   "metadata": {},
   "source": [
    "## [1.5 Cheatsheet](PyQM_1.5_Cheatsheet.ipynb)"
   ]
  },
  {
   "cell_type": "markdown",
   "metadata": {},
   "source": [
    "## [Tutorial 1](PyQM_Tut.1_sol.ipynb) \n",
    "1. Matrix Multiplication\n",
    "2. Matrix Addition/Subtraction\n",
    "3. Scalar Multiplication Of Matrix\n",
    "4. Matrix Inverse & Determinant"
   ]
  },
  {
   "cell_type": "markdown",
   "metadata": {},
   "source": [
    "## [Exercises 1](PyQM_Ex.1_sol.ipynb) \n",
    "1. Python as a Calculator\n",
    "2. Energy Levels of Hydrogen\n",
    "3. Quantum Qubit Gates & Nested Lists\n",
    "4. Periodic Function"
   ]
  },
  {
   "cell_type": "code",
   "execution_count": null,
   "metadata": {},
   "outputs": [],
   "source": []
  }
 ],
 "metadata": {
  "deepnote": {
   "is_reactive": false
  },
  "deepnote_execution_queue": [],
  "deepnote_notebook_id": "c3dd4414-c48b-4e8b-9619-24631465ef99",
  "kernelspec": {
   "display_name": "Python 3",
   "language": "python",
   "name": "python3"
  },
  "language_info": {
   "codemirror_mode": {
    "name": "ipython",
    "version": 3
   },
   "file_extension": ".py",
   "mimetype": "text/x-python",
   "name": "python",
   "nbconvert_exporter": "python",
   "pygments_lexer": "ipython3",
   "version": "3.8.8"
  }
 },
 "nbformat": 4,
 "nbformat_minor": 2
}
