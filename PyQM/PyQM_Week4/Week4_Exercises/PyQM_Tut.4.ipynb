{
 "cells": [
  {
   "cell_type": "markdown",
   "id": "7c3df5dd",
   "metadata": {},
   "source": [
    "<center>\n",
    "\n",
    "# Python for Quantum Mechanics: \n",
    "# Week 4 Tutorial\n",
    "\n",
    "</center>"
   ]
  },
  {
   "cell_type": "code",
   "execution_count": null,
   "id": "23d88e26",
   "metadata": {},
   "outputs": [],
   "source": [
    "import numpy as np\n",
    "import numpy.random as rnd"
   ]
  },
  {
   "cell_type": "markdown",
   "id": "beb205c4",
   "metadata": {},
   "source": [
    "<center>\n",
    "\n",
    "## Exercise 1: Multiplying Matrices\n",
    "\n",
    "</center>\n",
    "\n",
    "Create and multiply the following arrays using Numpy.\n",
    "\n",
    "$ \\begin{bmatrix}\n",
    "1 & 0 & 0 & 0 & 0 & 0 \\\\ 0&1 & 0 & 0 & 0 & 0 \\\\\n",
    "0&0 & 0 & 1 & 0 & 0 \\\\ 0&0 & 1 & 0 & 0 & 0 \\\\\n",
    "0&0 & 0 & 0 & 1 & 0 \\\\ 0&0 & 0 & 0 & 0 & 1\n",
    "\\end{bmatrix} \\times \\begin{bmatrix}\n",
    "1 \\\\ 0 \\\\ 1 \\\\ 0 \\\\ 1 \\\\ 0\n",
    "\\end{bmatrix} = \\begin{bmatrix}\n",
    "? \\\\ ? \\\\?\\\\?\\\\?\\\\?\n",
    "\\end{bmatrix}$"
   ]
  },
  {
   "cell_type": "code",
   "execution_count": null,
   "id": "2e7eef72",
   "metadata": {},
   "outputs": [],
   "source": []
  },
  {
   "cell_type": "markdown",
   "id": "071b9940",
   "metadata": {},
   "source": [
    "<center>\n",
    "\n",
    "## Exercise 2: Slicing Arrays\n",
    "\n",
    "</center>\n",
    "\n",
    "Take the arrays from exercise 1 and slice them to then execute the following expression\n",
    "\n",
    "$ \\begin{bmatrix}\n",
    "0 & 1 \\\\ 1&0\n",
    "\\end{bmatrix} \\times \\begin{bmatrix}\n",
    "1 \\\\ 0\n",
    "\\end{bmatrix} = \\begin{bmatrix}\n",
    "? \\\\ ?\n",
    "\\end{bmatrix}$"
   ]
  },
  {
   "cell_type": "code",
   "execution_count": null,
   "id": "3e23ec76",
   "metadata": {},
   "outputs": [],
   "source": []
  },
  {
   "cell_type": "markdown",
   "id": "3cc4f4f1",
   "metadata": {},
   "source": [
    "<center>\n",
    "\n",
    "## Exercise 3: Diagonalise\n",
    "\n",
    "</center>\n",
    "\n",
    "Using the eigenvector matrix $E$ of a random $(6,6)$ matrix $A$, diagonalise it with the formula\n",
    "\n",
    "$$ D = E^{-1}AE$$"
   ]
  },
  {
   "cell_type": "code",
   "execution_count": null,
   "id": "d585522c",
   "metadata": {},
   "outputs": [],
   "source": []
  },
  {
   "cell_type": "markdown",
   "id": "42c9ebc4",
   "metadata": {},
   "source": [
    "<center>\n",
    "\n",
    "## Exercise 4: Normal Distribution\n",
    "\n",
    "</center>\n",
    "\n",
    "Create an array of size $10,000$ with a normal distribution with mean $100$ and standard deviation of $10$."
   ]
  },
  {
   "cell_type": "code",
   "execution_count": null,
   "id": "4da4ed5e",
   "metadata": {},
   "outputs": [],
   "source": []
  },
  {
   "cell_type": "markdown",
   "id": "51a532a7",
   "metadata": {},
   "source": [
    "Now create a random array, of integers between $0\\rightarrow10,000$, of size $1,000$."
   ]
  },
  {
   "cell_type": "code",
   "execution_count": null,
   "id": "bdc5a83f",
   "metadata": {},
   "outputs": [],
   "source": []
  },
  {
   "cell_type": "markdown",
   "id": "53f31cdc",
   "metadata": {},
   "source": [
    "Using this random array, pull a random sample from that of the normal distribution."
   ]
  },
  {
   "cell_type": "code",
   "execution_count": null,
   "id": "98719704",
   "metadata": {},
   "outputs": [],
   "source": []
  },
  {
   "cell_type": "markdown",
   "id": "b063e2ad",
   "metadata": {},
   "source": [
    "Analyse this random_sample, find it's mean, std and variance."
   ]
  },
  {
   "cell_type": "code",
   "execution_count": null,
   "id": "aad560cc",
   "metadata": {},
   "outputs": [],
   "source": []
  },
  {
   "cell_type": "markdown",
   "id": "d257cab7",
   "metadata": {},
   "source": [
    "<center>\n",
    "\n",
    "## Exercise 5: Linear Regression & Stochastic Gradient Descent\n",
    "\n",
    "</center>\n",
    "\n",
    "Use stochastic gradient descent to minimise the cost function for a linear least-square fit. Return the slope and y-intercept of the resulting line. Fit the following scattered data points (x,y)."
   ]
  },
  {
   "cell_type": "code",
   "execution_count": null,
   "id": "4cdc3789",
   "metadata": {},
   "outputs": [],
   "source": [
    "m = 3\n",
    "c = 2\n",
    "\n",
    "x = np.arange(0,11,0.1)\n",
    "y = m*x + c + 0.1*rnd.random(len(x))*((-1)**np.round((rnd.random(len(x)))))"
   ]
  },
  {
   "cell_type": "code",
   "execution_count": null,
   "id": "280dd550",
   "metadata": {},
   "outputs": [],
   "source": []
  },
  {
   "cell_type": "markdown",
   "id": "fb626155",
   "metadata": {},
   "source": [
    "<center>\n",
    "\n",
    "## Exercise 6: Random Pi\n",
    "    \n",
    "</center>\n",
    "\n",
    "Using `rnd.random()`, calculate $\\pi$."
   ]
  },
  {
   "cell_type": "code",
   "execution_count": null,
   "id": "8cdcbebc",
   "metadata": {},
   "outputs": [],
   "source": []
  }
 ],
 "metadata": {
  "kernelspec": {
   "display_name": "Python 3 (ipykernel)",
   "language": "python",
   "name": "python3"
  },
  "language_info": {
   "codemirror_mode": {
    "name": "ipython",
    "version": 3
   },
   "file_extension": ".py",
   "mimetype": "text/x-python",
   "name": "python",
   "nbconvert_exporter": "python",
   "pygments_lexer": "ipython3",
   "version": "3.9.6"
  }
 },
 "nbformat": 4,
 "nbformat_minor": 5
}
